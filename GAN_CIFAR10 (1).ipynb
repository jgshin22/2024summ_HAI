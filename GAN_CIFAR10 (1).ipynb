{
  "cells": [
    {
      "cell_type": "markdown",
      "source": [
        "# 모듈 설치"
      ],
      "metadata": {
        "id": "meKMD67gqZkI"
      }
    },
    {
      "cell_type": "code",
      "execution_count": 1,
      "metadata": {
        "vscode": {
          "languageId": "bat"
        },
        "id": "ZtfdHPzqsbJO",
        "collapsed": true,
        "colab": {
          "base_uri": "https://localhost:8080/"
        },
        "outputId": "2e459ab3-347a-43af-a802-b712b73aafd9"
      },
      "outputs": [
        {
          "output_type": "stream",
          "name": "stdout",
          "text": [
            "Requirement already satisfied: torch in /usr/local/lib/python3.10/dist-packages (2.3.1+cu121)\n",
            "Requirement already satisfied: torchvision in /usr/local/lib/python3.10/dist-packages (0.18.1+cu121)\n",
            "Requirement already satisfied: numpy in /usr/local/lib/python3.10/dist-packages (1.26.4)\n",
            "Requirement already satisfied: matplotlib in /usr/local/lib/python3.10/dist-packages (3.7.1)\n",
            "Requirement already satisfied: filelock in /usr/local/lib/python3.10/dist-packages (from torch) (3.15.4)\n",
            "Requirement already satisfied: typing-extensions>=4.8.0 in /usr/local/lib/python3.10/dist-packages (from torch) (4.12.2)\n",
            "Requirement already satisfied: sympy in /usr/local/lib/python3.10/dist-packages (from torch) (1.13.2)\n",
            "Requirement already satisfied: networkx in /usr/local/lib/python3.10/dist-packages (from torch) (3.3)\n",
            "Requirement already satisfied: jinja2 in /usr/local/lib/python3.10/dist-packages (from torch) (3.1.4)\n",
            "Requirement already satisfied: fsspec in /usr/local/lib/python3.10/dist-packages (from torch) (2024.6.1)\n",
            "Collecting nvidia-cuda-nvrtc-cu12==12.1.105 (from torch)\n",
            "  Using cached nvidia_cuda_nvrtc_cu12-12.1.105-py3-none-manylinux1_x86_64.whl.metadata (1.5 kB)\n",
            "Collecting nvidia-cuda-runtime-cu12==12.1.105 (from torch)\n",
            "  Using cached nvidia_cuda_runtime_cu12-12.1.105-py3-none-manylinux1_x86_64.whl.metadata (1.5 kB)\n",
            "Collecting nvidia-cuda-cupti-cu12==12.1.105 (from torch)\n",
            "  Using cached nvidia_cuda_cupti_cu12-12.1.105-py3-none-manylinux1_x86_64.whl.metadata (1.6 kB)\n",
            "Collecting nvidia-cudnn-cu12==8.9.2.26 (from torch)\n",
            "  Using cached nvidia_cudnn_cu12-8.9.2.26-py3-none-manylinux1_x86_64.whl.metadata (1.6 kB)\n",
            "Collecting nvidia-cublas-cu12==12.1.3.1 (from torch)\n",
            "  Using cached nvidia_cublas_cu12-12.1.3.1-py3-none-manylinux1_x86_64.whl.metadata (1.5 kB)\n",
            "Collecting nvidia-cufft-cu12==11.0.2.54 (from torch)\n",
            "  Using cached nvidia_cufft_cu12-11.0.2.54-py3-none-manylinux1_x86_64.whl.metadata (1.5 kB)\n",
            "Collecting nvidia-curand-cu12==10.3.2.106 (from torch)\n",
            "  Using cached nvidia_curand_cu12-10.3.2.106-py3-none-manylinux1_x86_64.whl.metadata (1.5 kB)\n",
            "Collecting nvidia-cusolver-cu12==11.4.5.107 (from torch)\n",
            "  Using cached nvidia_cusolver_cu12-11.4.5.107-py3-none-manylinux1_x86_64.whl.metadata (1.6 kB)\n",
            "Collecting nvidia-cusparse-cu12==12.1.0.106 (from torch)\n",
            "  Using cached nvidia_cusparse_cu12-12.1.0.106-py3-none-manylinux1_x86_64.whl.metadata (1.6 kB)\n",
            "Collecting nvidia-nccl-cu12==2.20.5 (from torch)\n",
            "  Using cached nvidia_nccl_cu12-2.20.5-py3-none-manylinux2014_x86_64.whl.metadata (1.8 kB)\n",
            "Collecting nvidia-nvtx-cu12==12.1.105 (from torch)\n",
            "  Using cached nvidia_nvtx_cu12-12.1.105-py3-none-manylinux1_x86_64.whl.metadata (1.7 kB)\n",
            "Requirement already satisfied: triton==2.3.1 in /usr/local/lib/python3.10/dist-packages (from torch) (2.3.1)\n",
            "Collecting nvidia-nvjitlink-cu12 (from nvidia-cusolver-cu12==11.4.5.107->torch)\n",
            "  Using cached nvidia_nvjitlink_cu12-12.6.20-py3-none-manylinux2014_x86_64.whl.metadata (1.5 kB)\n",
            "Requirement already satisfied: pillow!=8.3.*,>=5.3.0 in /usr/local/lib/python3.10/dist-packages (from torchvision) (9.4.0)\n",
            "Requirement already satisfied: contourpy>=1.0.1 in /usr/local/lib/python3.10/dist-packages (from matplotlib) (1.2.1)\n",
            "Requirement already satisfied: cycler>=0.10 in /usr/local/lib/python3.10/dist-packages (from matplotlib) (0.12.1)\n",
            "Requirement already satisfied: fonttools>=4.22.0 in /usr/local/lib/python3.10/dist-packages (from matplotlib) (4.53.1)\n",
            "Requirement already satisfied: kiwisolver>=1.0.1 in /usr/local/lib/python3.10/dist-packages (from matplotlib) (1.4.5)\n",
            "Requirement already satisfied: packaging>=20.0 in /usr/local/lib/python3.10/dist-packages (from matplotlib) (24.1)\n",
            "Requirement already satisfied: pyparsing>=2.3.1 in /usr/local/lib/python3.10/dist-packages (from matplotlib) (3.1.2)\n",
            "Requirement already satisfied: python-dateutil>=2.7 in /usr/local/lib/python3.10/dist-packages (from matplotlib) (2.8.2)\n",
            "Requirement already satisfied: six>=1.5 in /usr/local/lib/python3.10/dist-packages (from python-dateutil>=2.7->matplotlib) (1.16.0)\n",
            "Requirement already satisfied: MarkupSafe>=2.0 in /usr/local/lib/python3.10/dist-packages (from jinja2->torch) (2.1.5)\n",
            "Requirement already satisfied: mpmath<1.4,>=1.1.0 in /usr/local/lib/python3.10/dist-packages (from sympy->torch) (1.3.0)\n",
            "Using cached nvidia_cublas_cu12-12.1.3.1-py3-none-manylinux1_x86_64.whl (410.6 MB)\n",
            "Using cached nvidia_cuda_cupti_cu12-12.1.105-py3-none-manylinux1_x86_64.whl (14.1 MB)\n",
            "Using cached nvidia_cuda_nvrtc_cu12-12.1.105-py3-none-manylinux1_x86_64.whl (23.7 MB)\n",
            "Using cached nvidia_cuda_runtime_cu12-12.1.105-py3-none-manylinux1_x86_64.whl (823 kB)\n",
            "Using cached nvidia_cudnn_cu12-8.9.2.26-py3-none-manylinux1_x86_64.whl (731.7 MB)\n",
            "Using cached nvidia_cufft_cu12-11.0.2.54-py3-none-manylinux1_x86_64.whl (121.6 MB)\n",
            "Using cached nvidia_curand_cu12-10.3.2.106-py3-none-manylinux1_x86_64.whl (56.5 MB)\n",
            "Using cached nvidia_cusolver_cu12-11.4.5.107-py3-none-manylinux1_x86_64.whl (124.2 MB)\n",
            "Using cached nvidia_cusparse_cu12-12.1.0.106-py3-none-manylinux1_x86_64.whl (196.0 MB)\n",
            "Using cached nvidia_nccl_cu12-2.20.5-py3-none-manylinux2014_x86_64.whl (176.2 MB)\n",
            "Using cached nvidia_nvtx_cu12-12.1.105-py3-none-manylinux1_x86_64.whl (99 kB)\n",
            "Using cached nvidia_nvjitlink_cu12-12.6.20-py3-none-manylinux2014_x86_64.whl (19.7 MB)\n",
            "Installing collected packages: nvidia-nvtx-cu12, nvidia-nvjitlink-cu12, nvidia-nccl-cu12, nvidia-curand-cu12, nvidia-cufft-cu12, nvidia-cuda-runtime-cu12, nvidia-cuda-nvrtc-cu12, nvidia-cuda-cupti-cu12, nvidia-cublas-cu12, nvidia-cusparse-cu12, nvidia-cudnn-cu12, nvidia-cusolver-cu12\n",
            "Successfully installed nvidia-cublas-cu12-12.1.3.1 nvidia-cuda-cupti-cu12-12.1.105 nvidia-cuda-nvrtc-cu12-12.1.105 nvidia-cuda-runtime-cu12-12.1.105 nvidia-cudnn-cu12-8.9.2.26 nvidia-cufft-cu12-11.0.2.54 nvidia-curand-cu12-10.3.2.106 nvidia-cusolver-cu12-11.4.5.107 nvidia-cusparse-cu12-12.1.0.106 nvidia-nccl-cu12-2.20.5 nvidia-nvjitlink-cu12-12.6.20 nvidia-nvtx-cu12-12.1.105\n"
          ]
        }
      ],
      "source": [
        "!pip install torch torchvision numpy matplotlib"
      ]
    },
    {
      "cell_type": "code",
      "execution_count": 2,
      "metadata": {
        "id": "2g4i0AwCsbJQ"
      },
      "outputs": [],
      "source": [
        "import torch\n",
        "import torch.nn as nn\n",
        "import torch.optim as optim\n",
        "from torchvision import datasets, transforms\n",
        "from torchvision.utils import save_image\n",
        "import torchvision.utils as vutils\n",
        "from torch.utils.data import DataLoader\n",
        "import matplotlib.pyplot as plt\n",
        "import numpy as np\n",
        "import os"
      ]
    },
    {
      "cell_type": "markdown",
      "source": [
        "# 데이터셋"
      ],
      "metadata": {
        "id": "_HiJRcYBqcdf"
      }
    },
    {
      "cell_type": "code",
      "execution_count": 3,
      "metadata": {
        "id": "d9emtymgsbJQ",
        "colab": {
          "base_uri": "https://localhost:8080/"
        },
        "outputId": "1addbd3f-48b4-4b1a-886e-89b2f1bfd6ec"
      },
      "outputs": [
        {
          "output_type": "stream",
          "name": "stdout",
          "text": [
            "Downloading https://www.cs.toronto.edu/~kriz/cifar-10-python.tar.gz to ./data/cifar-10-python.tar.gz\n"
          ]
        },
        {
          "output_type": "stream",
          "name": "stderr",
          "text": [
            "100%|██████████| 170498071/170498071 [00:03<00:00, 43068157.44it/s]\n"
          ]
        },
        {
          "output_type": "stream",
          "name": "stdout",
          "text": [
            "Extracting ./data/cifar-10-python.tar.gz to ./data\n"
          ]
        }
      ],
      "source": [
        "#데이터셋 정규화\n",
        "transform = transforms.Compose([\n",
        "    transforms.ToTensor(),\n",
        "    transforms.Normalize((0.5, 0.5, 0.5), (0.5, 0.5, 0.5))\n",
        "])\n",
        "\n",
        "# CIFAR10 데이터셋을 다운로드 & dataloader 생성\n",
        "dataset = datasets.CIFAR10(root='./data', train=True, download=True, transform=transform)\n",
        "dataloader = DataLoader(dataset, batch_size=64, shuffle=True)"
      ]
    },
    {
      "cell_type": "code",
      "execution_count": 4,
      "metadata": {
        "id": "itsoMyZLsbJR",
        "colab": {
          "base_uri": "https://localhost:8080/",
          "height": 323
        },
        "outputId": "b3f28e7d-028b-4026-e999-3858366c2f4c"
      },
      "outputs": [
        {
          "output_type": "stream",
          "name": "stderr",
          "text": [
            "WARNING:matplotlib.image:Clipping input data to the valid range for imshow with RGB data ([0..1] for floats or [0..255] for integers).\n",
            "WARNING:matplotlib.image:Clipping input data to the valid range for imshow with RGB data ([0..1] for floats or [0..255] for integers).\n",
            "WARNING:matplotlib.image:Clipping input data to the valid range for imshow with RGB data ([0..1] for floats or [0..255] for integers).\n",
            "WARNING:matplotlib.image:Clipping input data to the valid range for imshow with RGB data ([0..1] for floats or [0..255] for integers).\n",
            "WARNING:matplotlib.image:Clipping input data to the valid range for imshow with RGB data ([0..1] for floats or [0..255] for integers).\n",
            "WARNING:matplotlib.image:Clipping input data to the valid range for imshow with RGB data ([0..1] for floats or [0..255] for integers).\n",
            "WARNING:matplotlib.image:Clipping input data to the valid range for imshow with RGB data ([0..1] for floats or [0..255] for integers).\n",
            "WARNING:matplotlib.image:Clipping input data to the valid range for imshow with RGB data ([0..1] for floats or [0..255] for integers).\n"
          ]
        },
        {
          "output_type": "display_data",
          "data": {
            "text/plain": [
              "<Figure size 1200x1200 with 8 Axes>"
            ],
            "image/png": "[encoded data removed]"
          },
          "metadata": {}
        }
      ],
      "source": [
        "# 레이블 숫자를 클래스 이름으로 매핑하는 딕셔너리\n",
        "class_names = [\n",
        "    'Airplane', 'Automobile', 'Bird', 'Cat', 'Deer',\n",
        "    'Dog', 'Frog', 'Horse', 'Ship', 'Truck'\n",
        "]\n",
        "\n",
        "def show_images(images, labels):\n",
        "    npimg = images.numpy()  # 이미지를 numpy 배열로 변환\n",
        "    fig, axes = plt.subplots(1, 8, figsize=(12, 12))\n",
        "\n",
        "    # 이미지 출력\n",
        "    for i in range(8):\n",
        "        ax = axes[i]\n",
        "        img = np.transpose(npimg[i], (1, 2, 0))  # 채널 차원을 마지막으로 이동\n",
        "        ax.imshow(img)  # 이미지를 표시\n",
        "        ax.set_title(f'{class_names[labels[i].item()]}')\n",
        "        ax.axis('off')\n",
        "    plt.show()\n",
        "\n",
        "# 이미지 배치를 불러옴\n",
        "dataiter = iter(dataloader)\n",
        "images, labels = next(dataiter)\n",
        "\n",
        "show_images(images, labels)"
      ]
    },
    {
      "cell_type": "markdown",
      "source": [
        "# 생성기 판별기 클래스"
      ],
      "metadata": {
        "id": "8PLvQ_kyqfFS"
      }
    },
    {
      "cell_type": "code",
      "source": [
        "# Generator 정의\n",
        "class Generator(nn.Module):\n",
        "    def __init__(self, input_dim, output_dim):\n",
        "        super(Generator, self).__init__()\n",
        "        self.model = nn.Sequential(\n",
        "            nn.Linear(input_dim, 256),\n",
        "            nn.ReLU(),\n",
        "            nn.Linear(256, 512),\n",
        "            nn.ReLU(),\n",
        "            nn.Linear(512, 1024),\n",
        "            nn.ReLU(),\n",
        "            nn.Linear(1024, output_dim),\n",
        "            nn.Tanh()  # CIFAR-10 이미지는 [-1, 1] 범위로 정규화됨\n",
        "        )\n",
        "\n",
        "    def forward(self, x):\n",
        "        return self.model(x).view(-1, 3, 32, 32)  # 이미지 차원으로 변환\n",
        "\n",
        "# Discriminator 정의\n",
        "class Discriminator(nn.Module):\n",
        "    def __init__(self, input_dim):\n",
        "        super(Discriminator, self).__init__()\n",
        "        self.model = nn.Sequential(\n",
        "            nn.Linear(input_dim, 1024),\n",
        "            nn.LeakyReLU(0.2),\n",
        "            nn.Linear(1024, 512),\n",
        "            nn.LeakyReLU(0.2),\n",
        "            nn.Linear(512, 256),\n",
        "            nn.LeakyReLU(0.2),\n",
        "            nn.Linear(256, 1),\n",
        "            nn.Sigmoid()  # 출력이 0과 1 사이의 확률로 변환됨\n",
        "        )\n",
        "\n",
        "    def forward(self, x):\n",
        "        x = x.view(-1, 32 * 32 * 3)  # 1D 벡터로 변환\n",
        "        return self.model(x)"
      ],
      "metadata": {
        "id": "Cp9adIv-RiEf"
      },
      "execution_count": 41,
      "outputs": []
    },
    {
      "cell_type": "markdown",
      "source": [
        "# 손실함수, 하이퍼파라미터"
      ],
      "metadata": {
        "id": "Fo_yXAbTqvbg"
      }
    },
    {
      "cell_type": "code",
      "execution_count": 42,
      "metadata": {
        "id": "hWW4oMXgsbJT"
      },
      "outputs": [],
      "source": [
        "# Latent dimension과 이미지 차원 정의\n",
        "latent_dim = 100\n",
        "img_shape = 32 * 32 * 3  # CIFAR-10은 32x32 픽셀에 3채널\n",
        "\n",
        "generator = Generator(input_dim=latent_dim, output_dim=img_shape)\n",
        "discriminator = Discriminator(input_dim=img_shape)\n",
        "\n",
        "lr = 0.0002\n",
        "b1 = 0.5\n",
        "b2 = 0.999\n",
        "\n",
        "optimizer_G = optim.Adam(generator.parameters(), lr=lr, betas=(b1, b2))\n",
        "optimizer_D = optim.Adam(discriminator.parameters(), lr=lr, betas=(b1, b2))\n",
        "\n",
        "adversarial_loss = nn.BCELoss()"
      ]
    },
    {
      "cell_type": "markdown",
      "source": [
        "#학습"
      ],
      "metadata": {
        "id": "L_54AGQVq0z5"
      }
    },
    {
      "cell_type": "code",
      "execution_count": 43,
      "metadata": {
        "id": "5_7G68DusbJU",
        "collapsed": true,
        "colab": {
          "base_uri": "https://localhost:8080/"
        },
        "outputId": "63b76f73-71b8-4011-bb4d-ec9c6ea6b77f"
      },
      "outputs": [
        {
          "output_type": "stream",
          "name": "stdout",
          "text": [
            "Epoch [0/50] Batch 0/782                   Loss D: 0.6931941509246826, loss G: 0.7134149074554443\n",
            "Epoch [0/50] Batch 400/782                   Loss D: 0.1318296492099762, loss G: 3.9086694717407227\n",
            "Epoch [1/50] Batch 0/782                   Loss D: 0.037725213915109634, loss G: 6.096510410308838\n",
            "Epoch [1/50] Batch 400/782                   Loss D: 0.03843708708882332, loss G: 4.419241905212402\n",
            "Epoch [2/50] Batch 0/782                   Loss D: 0.16298702359199524, loss G: 2.287184715270996\n",
            "Epoch [2/50] Batch 400/782                   Loss D: 0.28003525733947754, loss G: 6.17697811126709\n",
            "Epoch [3/50] Batch 0/782                   Loss D: 0.04999164119362831, loss G: 2.474785327911377\n",
            "Epoch [3/50] Batch 400/782                   Loss D: 0.14692053198814392, loss G: 2.2544145584106445\n",
            "Epoch [4/50] Batch 0/782                   Loss D: 0.11361251771450043, loss G: 2.4700303077697754\n",
            "Epoch [4/50] Batch 400/782                   Loss D: 0.06837202608585358, loss G: 2.865020990371704\n",
            "Epoch [5/50] Batch 0/782                   Loss D: 0.0283841323107481, loss G: 3.431091547012329\n",
            "Epoch [5/50] Batch 400/782                   Loss D: 0.3971453309059143, loss G: 2.0466856956481934\n",
            "Epoch [6/50] Batch 0/782                   Loss D: 0.220819354057312, loss G: 2.3148117065429688\n",
            "Epoch [6/50] Batch 400/782                   Loss D: 0.2309732437133789, loss G: 2.0995843410491943\n",
            "Epoch [7/50] Batch 0/782                   Loss D: 0.29780253767967224, loss G: 3.069138526916504\n",
            "Epoch [7/50] Batch 400/782                   Loss D: 0.2398514747619629, loss G: 2.265366554260254\n",
            "Epoch [8/50] Batch 0/782                   Loss D: 0.29939547181129456, loss G: 2.0703482627868652\n",
            "Epoch [8/50] Batch 400/782                   Loss D: 0.28041091561317444, loss G: 3.3694419860839844\n",
            "Epoch [9/50] Batch 0/782                   Loss D: 0.4350234270095825, loss G: 2.565150737762451\n",
            "Epoch [9/50] Batch 400/782                   Loss D: 0.3271986246109009, loss G: 1.3729548454284668\n",
            "Epoch [10/50] Batch 0/782                   Loss D: 0.39125990867614746, loss G: 2.2695441246032715\n",
            "Epoch [10/50] Batch 400/782                   Loss D: 0.2660849094390869, loss G: 2.0071325302124023\n",
            "Epoch [11/50] Batch 0/782                   Loss D: 0.3173181414604187, loss G: 2.574154853820801\n",
            "Epoch [11/50] Batch 400/782                   Loss D: 0.5388669967651367, loss G: 1.4660435914993286\n",
            "Epoch [12/50] Batch 0/782                   Loss D: 0.372382789850235, loss G: 2.049102544784546\n",
            "Epoch [12/50] Batch 400/782                   Loss D: 0.27864712476730347, loss G: 1.9210013151168823\n",
            "Epoch [13/50] Batch 0/782                   Loss D: 0.2882336378097534, loss G: 2.618014335632324\n",
            "Epoch [13/50] Batch 400/782                   Loss D: 0.4225090742111206, loss G: 1.9625768661499023\n",
            "Epoch [14/50] Batch 0/782                   Loss D: 0.5010627508163452, loss G: 2.0298995971679688\n",
            "Epoch [14/50] Batch 400/782                   Loss D: 0.37517601251602173, loss G: 1.6614792346954346\n",
            "Epoch [15/50] Batch 0/782                   Loss D: 0.5426111221313477, loss G: 1.4905011653900146\n",
            "Epoch [15/50] Batch 400/782                   Loss D: 0.3026450574398041, loss G: 1.7780214548110962\n",
            "Epoch [16/50] Batch 0/782                   Loss D: 0.4352377951145172, loss G: 1.4304566383361816\n",
            "Epoch [16/50] Batch 400/782                   Loss D: 0.25910064578056335, loss G: 2.0266637802124023\n",
            "Epoch [17/50] Batch 0/782                   Loss D: 0.3780871629714966, loss G: 1.5436968803405762\n",
            "Epoch [17/50] Batch 400/782                   Loss D: 0.4946078360080719, loss G: 1.130614161491394\n",
            "Epoch [18/50] Batch 0/782                   Loss D: 0.3286173343658447, loss G: 1.8445043563842773\n",
            "Epoch [18/50] Batch 400/782                   Loss D: 0.41619446873664856, loss G: 1.571359634399414\n",
            "Epoch [19/50] Batch 0/782                   Loss D: 0.563582718372345, loss G: 1.2561290264129639\n",
            "Epoch [19/50] Batch 400/782                   Loss D: 0.49786970019340515, loss G: 1.1405315399169922\n",
            "Epoch [20/50] Batch 0/782                   Loss D: 0.38815492391586304, loss G: 1.371288537979126\n",
            "Epoch [20/50] Batch 400/782                   Loss D: 0.3583236336708069, loss G: 1.8428955078125\n",
            "Epoch [21/50] Batch 0/782                   Loss D: 0.48882001638412476, loss G: 1.5392539501190186\n",
            "Epoch [21/50] Batch 400/782                   Loss D: 0.45782965421676636, loss G: 1.412090539932251\n",
            "Epoch [22/50] Batch 0/782                   Loss D: 0.47765636444091797, loss G: 1.681511640548706\n",
            "Epoch [22/50] Batch 400/782                   Loss D: 0.588533341884613, loss G: 1.1620746850967407\n",
            "Epoch [23/50] Batch 0/782                   Loss D: 0.43592047691345215, loss G: 1.6788709163665771\n",
            "Epoch [23/50] Batch 400/782                   Loss D: 0.5400474667549133, loss G: 1.4928796291351318\n",
            "Epoch [24/50] Batch 0/782                   Loss D: 0.46389734745025635, loss G: 1.07254159450531\n",
            "Epoch [24/50] Batch 400/782                   Loss D: 0.5316523313522339, loss G: 0.9662132859230042\n",
            "Epoch [25/50] Batch 0/782                   Loss D: 0.5726190805435181, loss G: 1.2854337692260742\n",
            "Epoch [25/50] Batch 400/782                   Loss D: 0.5351781845092773, loss G: 0.997212827205658\n",
            "Epoch [26/50] Batch 0/782                   Loss D: 0.5981935858726501, loss G: 1.0929533243179321\n",
            "Epoch [26/50] Batch 400/782                   Loss D: 0.48176997900009155, loss G: 1.40883469581604\n",
            "Epoch [27/50] Batch 0/782                   Loss D: 0.6615324020385742, loss G: 1.5248377323150635\n",
            "Epoch [27/50] Batch 400/782                   Loss D: 0.501133918762207, loss G: 1.2829160690307617\n",
            "Epoch [28/50] Batch 0/782                   Loss D: 0.5580152273178101, loss G: 1.5801286697387695\n",
            "Epoch [28/50] Batch 400/782                   Loss D: 0.5284885168075562, loss G: 1.1819977760314941\n",
            "Epoch [29/50] Batch 0/782                   Loss D: 0.5796929597854614, loss G: 1.1941475868225098\n",
            "Epoch [29/50] Batch 400/782                   Loss D: 0.5246502757072449, loss G: 1.2775943279266357\n",
            "Epoch [30/50] Batch 0/782                   Loss D: 0.5016409754753113, loss G: 1.3488894701004028\n",
            "Epoch [30/50] Batch 400/782                   Loss D: 0.5284500122070312, loss G: 1.316110372543335\n",
            "Epoch [31/50] Batch 0/782                   Loss D: 0.6833490133285522, loss G: 0.9636398553848267\n",
            "Epoch [31/50] Batch 400/782                   Loss D: 0.5787557363510132, loss G: 1.1226966381072998\n",
            "Epoch [32/50] Batch 0/782                   Loss D: 0.5468746423721313, loss G: 1.0127155780792236\n",
            "Epoch [32/50] Batch 400/782                   Loss D: 0.5888367891311646, loss G: 0.9642990827560425\n",
            "Epoch [33/50] Batch 0/782                   Loss D: 0.5643734335899353, loss G: 1.1814074516296387\n",
            "Epoch [33/50] Batch 400/782                   Loss D: 0.4994454085826874, loss G: 1.01582932472229\n",
            "Epoch [34/50] Batch 0/782                   Loss D: 0.7013596296310425, loss G: 1.0738098621368408\n",
            "Epoch [34/50] Batch 400/782                   Loss D: 0.6169296503067017, loss G: 1.0588231086730957\n",
            "Epoch [35/50] Batch 0/782                   Loss D: 0.5589011311531067, loss G: 1.0487782955169678\n",
            "Epoch [35/50] Batch 400/782                   Loss D: 0.6606981754302979, loss G: 1.029083490371704\n",
            "Epoch [36/50] Batch 0/782                   Loss D: 0.52618008852005, loss G: 1.1091691255569458\n",
            "Epoch [36/50] Batch 400/782                   Loss D: 0.635108470916748, loss G: 1.1793298721313477\n",
            "Epoch [37/50] Batch 0/782                   Loss D: 0.5330297946929932, loss G: 1.0140680074691772\n",
            "Epoch [37/50] Batch 400/782                   Loss D: 0.6851588487625122, loss G: 0.8396508693695068\n",
            "Epoch [38/50] Batch 0/782                   Loss D: 0.5565661191940308, loss G: 1.1204431056976318\n",
            "Epoch [38/50] Batch 400/782                   Loss D: 0.5813732147216797, loss G: 0.9819595217704773\n",
            "Epoch [39/50] Batch 0/782                   Loss D: 0.5310265421867371, loss G: 1.0442273616790771\n",
            "Epoch [39/50] Batch 400/782                   Loss D: 0.5197287201881409, loss G: 1.004612922668457\n",
            "Epoch [40/50] Batch 0/782                   Loss D: 0.7387853860855103, loss G: 0.9701761603355408\n",
            "Epoch [40/50] Batch 400/782                   Loss D: 0.5792902708053589, loss G: 0.9750609397888184\n",
            "Epoch [41/50] Batch 0/782                   Loss D: 0.5386060476303101, loss G: 1.1793060302734375\n",
            "Epoch [41/50] Batch 400/782                   Loss D: 0.6026451587677002, loss G: 1.0408823490142822\n",
            "Epoch [42/50] Batch 0/782                   Loss D: 0.6354785561561584, loss G: 1.0265851020812988\n",
            "Epoch [42/50] Batch 400/782                   Loss D: 0.6739250421524048, loss G: 0.9910167455673218\n",
            "Epoch [43/50] Batch 0/782                   Loss D: 0.5721213817596436, loss G: 1.0494179725646973\n",
            "Epoch [43/50] Batch 400/782                   Loss D: 0.5634317398071289, loss G: 0.905462384223938\n",
            "Epoch [44/50] Batch 0/782                   Loss D: 0.5448439121246338, loss G: 1.2240018844604492\n",
            "Epoch [44/50] Batch 400/782                   Loss D: 0.5463006496429443, loss G: 0.8965076208114624\n",
            "Epoch [45/50] Batch 0/782                   Loss D: 0.48992547392845154, loss G: 1.1070677042007446\n",
            "Epoch [45/50] Batch 400/782                   Loss D: 0.5029938817024231, loss G: 1.1069059371948242\n",
            "Epoch [46/50] Batch 0/782                   Loss D: 0.6344621777534485, loss G: 0.9354193210601807\n",
            "Epoch [46/50] Batch 400/782                   Loss D: 0.6091538667678833, loss G: 0.9186196327209473\n",
            "Epoch [47/50] Batch 0/782                   Loss D: 0.6162087321281433, loss G: 0.9286119341850281\n",
            "Epoch [47/50] Batch 400/782                   Loss D: 0.5343481302261353, loss G: 1.252265214920044\n",
            "Epoch [48/50] Batch 0/782                   Loss D: 0.6534605622291565, loss G: 0.8279052376747131\n",
            "Epoch [48/50] Batch 400/782                   Loss D: 0.7021260261535645, loss G: 0.8240006566047668\n",
            "Epoch [49/50] Batch 0/782                   Loss D: 0.6409955024719238, loss G: 0.7162522077560425\n",
            "Epoch [49/50] Batch 400/782                   Loss D: 0.573326826095581, loss G: 0.954122006893158\n"
          ]
        }
      ],
      "source": [
        "num_epochs = 50\n",
        "device = torch.device(\"cuda\" if torch.cuda.is_available() else \"cpu\")\n",
        "\n",
        "generator.to(device)\n",
        "discriminator.to(device)\n",
        "adversarial_loss.to(device)\n",
        "\n",
        "if not os.path.exists(\"images\"):\n",
        "    os.mkdir(\"images\")\n",
        "\n",
        "for epoch in range(num_epochs):\n",
        "    for i, (imgs, _) in enumerate(dataloader):\n",
        "\n",
        "        # 진짠지 가짠지에 대한 레이블 생성\n",
        "        valid = torch.ones((imgs.size(0), 1), requires_grad=False).to(device)\n",
        "        fake = torch.zeros((imgs.size(0), 1), requires_grad=False).to(device)\n",
        "\n",
        "        # 진짜 이미지 (데이터셋에서 불러온거)\n",
        "        real_imgs = imgs.view(imgs.size(0), -1).to(device)\n",
        "\n",
        "        # 생성기 학습\n",
        "        optimizer_G.zero_grad()\n",
        "\n",
        "        # 랜덤 노이즈로부터 이미지 생성\n",
        "        z = torch.randn((imgs.size(0), latent_dim)).to(device)\n",
        "        gen_imgs = generator(z)\n",
        "\n",
        "        # 생성된 이미지를 판별자에 넣어서 결과 확인\n",
        "        g_loss = adversarial_loss(discriminator(gen_imgs), valid)\n",
        "        g_loss.backward()\n",
        "        optimizer_G.step()\n",
        "\n",
        "\n",
        "        # 판별기 학습\n",
        "        optimizer_D.zero_grad()\n",
        "\n",
        "        # 진짜 이미지 판별\n",
        "        real_loss = adversarial_loss(discriminator(real_imgs), valid)\n",
        "        fake_loss = adversarial_loss(discriminator(gen_imgs.detach()), fake)\n",
        "        d_loss = (real_loss + fake_loss) / 2\n",
        "\n",
        "        d_loss.backward()\n",
        "        optimizer_D.step()\n",
        "\n",
        "        if i % 400 == 0:\n",
        "            print(f\"Epoch [{epoch}/{num_epochs}] Batch {i}/{len(dataloader)} \\\n",
        "                  Loss D: {d_loss.item()}, loss G: {g_loss.item()}\")\n",
        "\n",
        "    # 중간 단계 확인을 위해 생성된 이미지 저장\n",
        "    if epoch % 10 == 0:\n",
        "        gen_imgs = gen_imgs.view(gen_imgs.size(0), 3, 32, 32)\n",
        "        save_image(gen_imgs.data[:25], f\"images/{epoch}.png\", nrow=5, normalize=True)\n"
      ]
    },
    {
      "cell_type": "markdown",
      "source": [
        "# 결과"
      ],
      "metadata": {
        "id": "ZFBuIntKrNZs"
      }
    },
    {
      "cell_type": "code",
      "execution_count": 44,
      "metadata": {
        "id": "G2qU5U4HsbJV",
        "colab": {
          "base_uri": "https://localhost:8080/",
          "height": 281
        },
        "outputId": "e609d81b-4694-4893-9564-c46f2b95e2a0"
      },
      "outputs": [
        {
          "output_type": "stream",
          "name": "stderr",
          "text": [
            "WARNING:matplotlib.image:Clipping input data to the valid range for imshow with RGB data ([0..1] for floats or [0..255] for integers).\n",
            "WARNING:matplotlib.image:Clipping input data to the valid range for imshow with RGB data ([0..1] for floats or [0..255] for integers).\n",
            "WARNING:matplotlib.image:Clipping input data to the valid range for imshow with RGB data ([0..1] for floats or [0..255] for integers).\n",
            "WARNING:matplotlib.image:Clipping input data to the valid range for imshow with RGB data ([0..1] for floats or [0..255] for integers).\n",
            "WARNING:matplotlib.image:Clipping input data to the valid range for imshow with RGB data ([0..1] for floats or [0..255] for integers).\n"
          ]
        },
        {
          "output_type": "display_data",
          "data": {
            "text/plain": [
              "<Figure size 1000x200 with 5 Axes>"
            ],
            "image/png": "[encoded data removed]"
          },
          "metadata": {}
        }
      ],
      "source": [
        "def show_generated_imgs(generator, latent_dim, num_images=5):\n",
        "    generator.eval()\n",
        "    with torch.no_grad():\n",
        "        z = torch.randn(num_images, latent_dim).to(device)\n",
        "        gen_imgs = generator(z)\n",
        "        gen_imgs = gen_imgs.view(num_images, 3, 32, 32)  #CIFAR-10 이미지 크기로 수정\n",
        "\n",
        "        gen_imgs = gen_imgs.detach().cpu().numpy()\n",
        "        fig, axes = plt.subplots(1, num_images, figsize=(num_images * 2, 2))\n",
        "        for i in range(num_images):\n",
        "            axes[i].imshow(np.transpose(gen_imgs[i], (1, 2, 0)))\n",
        "            axes[i].axis('off')\n",
        "        plt.show()\n",
        "\n",
        "show_generated_imgs(generator, latent_dim)"
      ]
    },
    {
      "cell_type": "markdown",
      "source": [
        "# 생성기 판별기 레이어 수정"
      ],
      "metadata": {
        "id": "Tup29o1jp9m7"
      }
    },
    {
      "cell_type": "code",
      "source": [
        "latent_dim = 100\n",
        "img_shape = (3, 32, 32)\n",
        "\n",
        "#수정된 생성기\n",
        "class Generator2(nn.Module):\n",
        "    def __init__(self):\n",
        "        super(Generator2, self).__init__()\n",
        "        self.model = nn.Sequential(\n",
        "            nn.ConvTranspose2d(latent_dim, 128, 4, 1, 0, bias=False),\n",
        "            nn.BatchNorm2d(128),\n",
        "            nn.ReLU(True),\n",
        "            nn.ConvTranspose2d(128, 64, 4, 2, 1, bias=False),\n",
        "            nn.BatchNorm2d(64),\n",
        "            nn.ReLU(True),\n",
        "            nn.ConvTranspose2d(64, 32, 4, 2, 1, bias=False),\n",
        "            nn.BatchNorm2d(32),\n",
        "            nn.ReLU(True),\n",
        "            nn.ConvTranspose2d(32, 3, 4, 2, 1, bias=False),\n",
        "            nn.Tanh()  #CIFAR-10은 -1에서 1사이의 값으로 정규화\n",
        "        )\n",
        "\n",
        "    def forward(self, x):\n",
        "        return self.model(x)\n",
        "\n",
        "# Discriminator model\n",
        "class Discriminator2(nn.Module):\n",
        "    def __init__(self):\n",
        "        super(Discriminator2, self).__init__()\n",
        "        self.model = nn.Sequential(\n",
        "            nn.Conv2d(3, 32, 4, 2, 1, bias=False),\n",
        "            nn.LeakyReLU(0.2, inplace=True),\n",
        "            nn.Conv2d(32, 64, 4, 2, 1, bias=False),\n",
        "            nn.BatchNorm2d(64),\n",
        "            nn.LeakyReLU(0.2, inplace=True),\n",
        "            nn.Conv2d(64, 128, 4, 2, 1, bias=False),\n",
        "            nn.BatchNorm2d(128),\n",
        "            nn.LeakyReLU(0.2, inplace=True),\n",
        "            nn.Conv2d(128, 1, 4, 1, 0, bias=False),\n",
        "            nn.Sigmoid()\n",
        "        )\n",
        "\n",
        "    def forward(self, x):\n",
        "        return self.model(x).view(-1, 1)"
      ],
      "metadata": {
        "id": "8PdBm0HJov82"
      },
      "execution_count": 49,
      "outputs": []
    },
    {
      "cell_type": "markdown",
      "source": [
        "#모델 초기화, 하이퍼 파라미터"
      ],
      "metadata": {
        "id": "_H7Eke5otQj0"
      }
    },
    {
      "cell_type": "code",
      "source": [
        "device = torch.device(\"cuda\" if torch.cuda.is_available() else \"cpu\")\n",
        "generator2 = Generator2().to(device)\n",
        "discriminator2 = Discriminator2().to(device)\n",
        "\n",
        "lr = 0.0002\n",
        "b1 = 0.5\n",
        "b2 = 0.999\n",
        "\n",
        "optimizer_G2 = optim.Adam(generator2.parameters(), lr=lr, betas=(b1, b2))\n",
        "optimizer_D2 = optim.Adam(discriminator2.parameters(), lr=lr, betas=(b1, b2))\n",
        "\n",
        "adversarial_loss2 = nn.BCELoss()"
      ],
      "metadata": {
        "id": "cCfX928FtPmh"
      },
      "execution_count": 50,
      "outputs": []
    },
    {
      "cell_type": "markdown",
      "source": [
        "#훈련"
      ],
      "metadata": {
        "id": "4yyX0JgFtb4i"
      }
    },
    {
      "cell_type": "code",
      "source": [
        "num_epochs = 50\n",
        "batch_size = 64\n",
        "\n",
        "if not os.path.exists(\"images2\"):\n",
        "    os.mkdir(\"images2\")\n",
        "\n",
        "for epoch in range(num_epochs):\n",
        "    for i, (imgs, _) in enumerate(dataloader):\n",
        "        valid = torch.ones((imgs.size(0), 1), requires_grad=False).to(device)\n",
        "        fake = torch.zeros((imgs.size(0), 1), requires_grad=False).to(device)\n",
        "\n",
        "        real_imgs = imgs.to(device)\n",
        "\n",
        "        optimizer_G2.zero_grad()\n",
        "        z = torch.randn(imgs.size(0), latent_dim, 1, 1).to(device)\n",
        "        gen_imgs = generator2(z)\n",
        "        g_loss = adversarial_loss2(discriminator2(gen_imgs), valid)\n",
        "        g_loss.backward()\n",
        "        optimizer_G2.step()\n",
        "\n",
        "        optimizer_D2.zero_grad()\n",
        "        real_loss = adversarial_loss2(discriminator2(real_imgs), valid)\n",
        "        fake_loss = adversarial_loss2(discriminator2(gen_imgs.detach()), fake)\n",
        "        d_loss = (real_loss + fake_loss) / 2\n",
        "        d_loss.backward()\n",
        "        optimizer_D2.step()\n",
        "\n",
        "        if i % 400 == 0:\n",
        "            print(f\"Epoch [{epoch}/{num_epochs}] Batch {i}/{len(dataloader)} \\\n",
        "                  Loss D: {d_loss.item()}, Loss G: {g_loss.item()}\")\n",
        "\n",
        "    if epoch % 10 == 0:\n",
        "        gen_imgs = gen_imgs.detach().cpu()\n",
        "        save_image(gen_imgs.data[:25], f\"images2/{epoch}.png\", nrow=5, normalize=True)"
      ],
      "metadata": {
        "id": "AgDHreQZtadJ",
        "colab": {
          "base_uri": "https://localhost:8080/"
        },
        "outputId": "91c0051f-2974-439f-cadf-4d2e75dc2bad"
      },
      "execution_count": 51,
      "outputs": [
        {
          "output_type": "stream",
          "name": "stdout",
          "text": [
            "Epoch [0/50] Batch 0/782                   Loss D: 0.742121696472168, Loss G: 0.957785964012146\n",
            "Epoch [0/50] Batch 400/782                   Loss D: 0.08411622047424316, Loss G: 2.9263229370117188\n",
            "Epoch [1/50] Batch 0/782                   Loss D: 0.25155407190322876, Loss G: 2.1391379833221436\n",
            "Epoch [1/50] Batch 400/782                   Loss D: 0.10713004320859909, Loss G: 3.077552318572998\n",
            "Epoch [2/50] Batch 0/782                   Loss D: 0.7575287818908691, Loss G: 0.6012631058692932\n",
            "Epoch [2/50] Batch 400/782                   Loss D: 0.09381066262722015, Loss G: 3.0503931045532227\n",
            "Epoch [3/50] Batch 0/782                   Loss D: 0.14607121050357819, Loss G: 2.3383049964904785\n",
            "Epoch [3/50] Batch 400/782                   Loss D: 0.30695289373397827, Loss G: 1.203860878944397\n",
            "Epoch [4/50] Batch 0/782                   Loss D: 0.6312386989593506, Loss G: 3.6606807708740234\n",
            "Epoch [4/50] Batch 400/782                   Loss D: 0.27820032835006714, Loss G: 2.954540729522705\n",
            "Epoch [5/50] Batch 0/782                   Loss D: 0.29088422656059265, Loss G: 1.7410451173782349\n",
            "Epoch [5/50] Batch 400/782                   Loss D: 0.2822718620300293, Loss G: 1.8645524978637695\n",
            "Epoch [6/50] Batch 0/782                   Loss D: 0.34718841314315796, Loss G: 1.2075904607772827\n",
            "Epoch [6/50] Batch 400/782                   Loss D: 0.23096808791160583, Loss G: 3.488762855529785\n",
            "Epoch [7/50] Batch 0/782                   Loss D: 0.18798571825027466, Loss G: 2.1573667526245117\n",
            "Epoch [7/50] Batch 400/782                   Loss D: 0.20492979884147644, Loss G: 2.927574634552002\n",
            "Epoch [8/50] Batch 0/782                   Loss D: 0.3377562165260315, Loss G: 1.2074978351593018\n",
            "Epoch [8/50] Batch 400/782                   Loss D: 0.21780812740325928, Loss G: 2.2918245792388916\n",
            "Epoch [9/50] Batch 0/782                   Loss D: 0.13050585985183716, Loss G: 3.5938069820404053\n",
            "Epoch [9/50] Batch 400/782                   Loss D: 0.203107088804245, Loss G: 1.8448200225830078\n",
            "Epoch [10/50] Batch 0/782                   Loss D: 0.22882919013500214, Loss G: 3.2401914596557617\n",
            "Epoch [10/50] Batch 400/782                   Loss D: 0.19927096366882324, Loss G: 1.775752305984497\n",
            "Epoch [11/50] Batch 0/782                   Loss D: 0.1676999032497406, Loss G: 2.937248945236206\n",
            "Epoch [11/50] Batch 400/782                   Loss D: 0.33830004930496216, Loss G: 1.4559783935546875\n",
            "Epoch [12/50] Batch 0/782                   Loss D: 0.252382755279541, Loss G: 1.3613263368606567\n",
            "Epoch [12/50] Batch 400/782                   Loss D: 0.25654006004333496, Loss G: 2.7907650470733643\n",
            "Epoch [13/50] Batch 0/782                   Loss D: 0.5810007452964783, Loss G: 4.2705864906311035\n",
            "Epoch [13/50] Batch 400/782                   Loss D: 0.2037072330713272, Loss G: 1.7852134704589844\n",
            "Epoch [14/50] Batch 0/782                   Loss D: 0.22829748690128326, Loss G: 1.9460058212280273\n",
            "Epoch [14/50] Batch 400/782                   Loss D: 0.23565350472927094, Loss G: 2.51876163482666\n",
            "Epoch [15/50] Batch 0/782                   Loss D: 0.11054779589176178, Loss G: 2.543541431427002\n",
            "Epoch [15/50] Batch 400/782                   Loss D: 0.16880100965499878, Loss G: 2.182753324508667\n",
            "Epoch [16/50] Batch 0/782                   Loss D: 0.17241281270980835, Loss G: 2.3903207778930664\n",
            "Epoch [16/50] Batch 400/782                   Loss D: 0.1795632541179657, Loss G: 2.0070455074310303\n",
            "Epoch [17/50] Batch 0/782                   Loss D: 0.2725125253200531, Loss G: 1.4345953464508057\n",
            "Epoch [17/50] Batch 400/782                   Loss D: 0.19229021668434143, Loss G: 1.8581645488739014\n",
            "Epoch [18/50] Batch 0/782                   Loss D: 0.16400054097175598, Loss G: 3.221055507659912\n",
            "Epoch [18/50] Batch 400/782                   Loss D: 0.08645400404930115, Loss G: 2.5984623432159424\n",
            "Epoch [19/50] Batch 0/782                   Loss D: 0.7836902737617493, Loss G: 0.406782865524292\n",
            "Epoch [19/50] Batch 400/782                   Loss D: 1.2381062507629395, Loss G: 0.25407874584198\n",
            "Epoch [20/50] Batch 0/782                   Loss D: 0.5801463723182678, Loss G: 0.8613625168800354\n",
            "Epoch [20/50] Batch 400/782                   Loss D: 0.159685418009758, Loss G: 3.2829091548919678\n",
            "Epoch [21/50] Batch 0/782                   Loss D: 0.6252473592758179, Loss G: 0.7003306150436401\n",
            "Epoch [21/50] Batch 400/782                   Loss D: 0.1801730990409851, Loss G: 1.6084370613098145\n",
            "Epoch [22/50] Batch 0/782                   Loss D: 0.12337049096822739, Loss G: 3.1406028270721436\n",
            "Epoch [22/50] Batch 400/782                   Loss D: 0.21938097476959229, Loss G: 2.2924368381500244\n",
            "Epoch [23/50] Batch 0/782                   Loss D: 0.1640515923500061, Loss G: 1.857022762298584\n",
            "Epoch [23/50] Batch 400/782                   Loss D: 0.2379796802997589, Loss G: 3.0940592288970947\n",
            "Epoch [24/50] Batch 0/782                   Loss D: 0.1507595032453537, Loss G: 2.2093381881713867\n",
            "Epoch [24/50] Batch 400/782                   Loss D: 0.16585533320903778, Loss G: 1.9813053607940674\n",
            "Epoch [25/50] Batch 0/782                   Loss D: 0.22180643677711487, Loss G: 2.167109966278076\n",
            "Epoch [25/50] Batch 400/782                   Loss D: 0.12383093684911728, Loss G: 3.328569173812866\n",
            "Epoch [26/50] Batch 0/782                   Loss D: 0.18121275305747986, Loss G: 1.8877142667770386\n",
            "Epoch [26/50] Batch 400/782                   Loss D: 0.19539004564285278, Loss G: 2.4454092979431152\n",
            "Epoch [27/50] Batch 0/782                   Loss D: 0.12862615287303925, Loss G: 4.10023832321167\n",
            "Epoch [27/50] Batch 400/782                   Loss D: 0.13683313131332397, Loss G: 2.507585048675537\n",
            "Epoch [28/50] Batch 0/782                   Loss D: 0.3399235010147095, Loss G: 3.2592415809631348\n",
            "Epoch [28/50] Batch 400/782                   Loss D: 0.17058730125427246, Loss G: 2.6666078567504883\n",
            "Epoch [29/50] Batch 0/782                   Loss D: 0.12075327336788177, Loss G: 3.0967843532562256\n",
            "Epoch [29/50] Batch 400/782                   Loss D: 0.14408761262893677, Loss G: 2.014492988586426\n",
            "Epoch [30/50] Batch 0/782                   Loss D: 0.5288411974906921, Loss G: 0.8327657580375671\n",
            "Epoch [30/50] Batch 400/782                   Loss D: 0.16925618052482605, Loss G: 2.1568360328674316\n",
            "Epoch [31/50] Batch 0/782                   Loss D: 0.31097525358200073, Loss G: 1.646080493927002\n",
            "Epoch [31/50] Batch 400/782                   Loss D: 0.09180204570293427, Loss G: 3.935844659805298\n",
            "Epoch [32/50] Batch 0/782                   Loss D: 0.3797292411327362, Loss G: 1.0477864742279053\n",
            "Epoch [32/50] Batch 400/782                   Loss D: 0.11350592970848083, Loss G: 2.669163703918457\n",
            "Epoch [33/50] Batch 0/782                   Loss D: 0.09500379860401154, Loss G: 3.1711511611938477\n",
            "Epoch [33/50] Batch 400/782                   Loss D: 0.1270233690738678, Loss G: 2.670473575592041\n",
            "Epoch [34/50] Batch 0/782                   Loss D: 0.21910342574119568, Loss G: 3.8507800102233887\n",
            "Epoch [34/50] Batch 400/782                   Loss D: 0.20131395757198334, Loss G: 1.8272126913070679\n",
            "Epoch [35/50] Batch 0/782                   Loss D: 0.21391327679157257, Loss G: 1.5970944166183472\n",
            "Epoch [35/50] Batch 400/782                   Loss D: 1.4041688442230225, Loss G: 0.3573707342147827\n",
            "Epoch [36/50] Batch 0/782                   Loss D: 0.1855842024087906, Loss G: 2.0201358795166016\n",
            "Epoch [36/50] Batch 400/782                   Loss D: 0.0912652462720871, Loss G: 3.4530577659606934\n",
            "Epoch [37/50] Batch 0/782                   Loss D: 0.16219764947891235, Loss G: 3.3280937671661377\n",
            "Epoch [37/50] Batch 400/782                   Loss D: 0.06111077964305878, Loss G: 3.511229991912842\n",
            "Epoch [38/50] Batch 0/782                   Loss D: 0.12399430572986603, Loss G: 3.4878885746002197\n",
            "Epoch [38/50] Batch 400/782                   Loss D: 0.05505006015300751, Loss G: 4.3469767570495605\n",
            "Epoch [39/50] Batch 0/782                   Loss D: 0.14944815635681152, Loss G: 4.988951683044434\n",
            "Epoch [39/50] Batch 400/782                   Loss D: 0.08720523118972778, Loss G: 3.4254965782165527\n",
            "Epoch [40/50] Batch 0/782                   Loss D: 0.14893418550491333, Loss G: 3.0393946170806885\n",
            "Epoch [40/50] Batch 400/782                   Loss D: 0.14268487691879272, Loss G: 3.221193790435791\n",
            "Epoch [41/50] Batch 0/782                   Loss D: 0.09663811326026917, Loss G: 3.0791244506835938\n",
            "Epoch [41/50] Batch 400/782                   Loss D: 0.1445939689874649, Loss G: 2.03436279296875\n",
            "Epoch [42/50] Batch 0/782                   Loss D: 0.2548178434371948, Loss G: 1.448070764541626\n",
            "Epoch [42/50] Batch 400/782                   Loss D: 0.15728306770324707, Loss G: 4.189760208129883\n",
            "Epoch [43/50] Batch 0/782                   Loss D: 0.178376704454422, Loss G: 1.8013927936553955\n",
            "Epoch [43/50] Batch 400/782                   Loss D: 0.12592802941799164, Loss G: 3.42535662651062\n",
            "Epoch [44/50] Batch 0/782                   Loss D: 0.03557314723730087, Loss G: 4.171863555908203\n",
            "Epoch [44/50] Batch 400/782                   Loss D: 0.09483054280281067, Loss G: 2.919678211212158\n",
            "Epoch [45/50] Batch 0/782                   Loss D: 0.10647667944431305, Loss G: 2.2378625869750977\n",
            "Epoch [45/50] Batch 400/782                   Loss D: 0.08190450817346573, Loss G: 3.1013174057006836\n",
            "Epoch [46/50] Batch 0/782                   Loss D: 0.06955595314502716, Loss G: 2.9994843006134033\n",
            "Epoch [46/50] Batch 400/782                   Loss D: 0.10663735866546631, Loss G: 4.2297773361206055\n",
            "Epoch [47/50] Batch 0/782                   Loss D: 0.09331667423248291, Loss G: 4.3349809646606445\n",
            "Epoch [47/50] Batch 400/782                   Loss D: 0.08788836002349854, Loss G: 4.699042797088623\n",
            "Epoch [48/50] Batch 0/782                   Loss D: 0.10120448470115662, Loss G: 4.296859264373779\n",
            "Epoch [48/50] Batch 400/782                   Loss D: 0.05827593803405762, Loss G: 4.248526096343994\n",
            "Epoch [49/50] Batch 0/782                   Loss D: 0.2196701169013977, Loss G: 5.605396270751953\n",
            "Epoch [49/50] Batch 400/782                   Loss D: 0.1318727284669876, Loss G: 2.8061883449554443\n"
          ]
        }
      ]
    },
    {
      "cell_type": "code",
      "source": [
        "def show_generated_imgs(generator, latent_dim, num_images=5):\n",
        "    generator.eval()\n",
        "    with torch.no_grad():\n",
        "        #Latent 벡터를 4D 텐서로 변환해야함\n",
        "        z = torch.randn(num_images, latent_dim, 1, 1).to(device)\n",
        "        gen_imgs = generator(z)\n",
        "        gen_imgs = gen_imgs.detach().cpu().numpy()\n",
        "\n",
        "        fig, axes = plt.subplots(1, num_images, figsize=(num_images * 2, 2))\n",
        "        for i in range(num_images):\n",
        "            axes[i].imshow(np.transpose(gen_imgs[i], (1, 2, 0)))\n",
        "            axes[i].axis('off')\n",
        "        plt.show()\n",
        "\n",
        "show_generated_imgs(generator2, latent_dim)"
      ],
      "metadata": {
        "colab": {
          "base_uri": "https://localhost:8080/",
          "height": 281
        },
        "id": "qYa2_ZBbBlIB",
        "outputId": "81e71f5b-a1c3-480f-f13f-9c26fe37ddb3"
      },
      "execution_count": 54,
      "outputs": [
        {
          "output_type": "stream",
          "name": "stderr",
          "text": [
            "WARNING:matplotlib.image:Clipping input data to the valid range for imshow with RGB data ([0..1] for floats or [0..255] for integers).\n",
            "WARNING:matplotlib.image:Clipping input data to the valid range for imshow with RGB data ([0..1] for floats or [0..255] for integers).\n",
            "WARNING:matplotlib.image:Clipping input data to the valid range for imshow with RGB data ([0..1] for floats or [0..255] for integers).\n",
            "WARNING:matplotlib.image:Clipping input data to the valid range for imshow with RGB data ([0..1] for floats or [0..255] for integers).\n",
            "WARNING:matplotlib.image:Clipping input data to the valid range for imshow with RGB data ([0..1] for floats or [0..255] for integers).\n"
          ]
        },
        {
          "output_type": "display_data",
          "data": {
            "text/plain": [
              "<Figure size 1000x200 with 5 Axes>"
            ],
            "image/png": "[encoded data removed]"
          },
          "metadata": {}
        }
      ]
    },
    {
      "cell_type": "code",
      "source": [],
      "metadata": {
        "id": "K_rN9jQhcWoS"
      },
      "execution_count": null,
      "outputs": []
    }
  ],
  "metadata": {
    "language_info": {
      "name": "python"
    },
    "colab": {
      "provenance": [],
      "gpuType": "T4",
      "toc_visible": true
    },
    "kernelspec": {
      "name": "python3",
      "display_name": "Python 3"
    },
    "accelerator": "GPU"
  },
  "nbformat": 4,
  "nbformat_minor": 0
}